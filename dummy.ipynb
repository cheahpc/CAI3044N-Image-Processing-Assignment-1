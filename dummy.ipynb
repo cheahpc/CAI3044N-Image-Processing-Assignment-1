{
 "cells": [
  {
   "cell_type": "code",
   "execution_count": 1,
   "metadata": {},
   "outputs": [],
   "source": [
    "import func as f\n",
    "\n",
    "path1 = \"img/raw_h_1.NEF\"\n",
    "path2 = \"img/raw_v_2.NEF\"\n",
    "\n",
    "img1 = f.Converter.raw2bgr(path1)\n",
    "img2 = f.Converter.raw2bgr(path2)\n",
    "\n",
    "\n",
    "f.Image.saveSet(img1, \"img/raw_h.tiff\")\n",
    "f.Image.saveSet(img2, \"img/raw_v.tiff\")"
   ]
  }
 ],
 "metadata": {
  "kernelspec": {
   "display_name": "Python 3",
   "language": "python",
   "name": "python3"
  },
  "language_info": {
   "codemirror_mode": {
    "name": "ipython",
    "version": 3
   },
   "file_extension": ".py",
   "mimetype": "text/x-python",
   "name": "python",
   "nbconvert_exporter": "python",
   "pygments_lexer": "ipython3",
   "version": "3.12.6"
  }
 },
 "nbformat": 4,
 "nbformat_minor": 2
}
