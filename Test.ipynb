{
 "cells": [
  {
   "cell_type": "code",
   "execution_count": 8,
   "metadata": {},
   "outputs": [],
   "source": [
    "import rawpy\n",
    "import cv2\n",
    "\n",
    "img1 = \"img/img1.NEF\"\n",
    "img2 = \"img/img2.NEF\"\n",
    "img3 = \"img/img3.NEF\"\n",
    "img4 = \"img/img4.NEF\"\n",
    "\n",
    "\n",
    "def rawConvert(img, cam_wb=True):\n",
    "    raw = rawpy.imread(img)\n",
    "    rgb = raw.postprocess(use_camera_wb=cam_wb)\n",
    "    return cv2.cvtColor(rgb, cv2.COLOR_RGB2BGR)\n",
    "\n",
    "\n",
    "with rawpy.imread(img1) as raw:\n",
    "\n",
    "    cv2.imshow(\"image\", rawConvert(img1, False))\n",
    "\n",
    "    cv2.waitKey(0)\n",
    "    cv2.destroyAllWindows()"
   ]
  }
 ],
 "metadata": {
  "kernelspec": {
   "display_name": "Python 3",
   "language": "python",
   "name": "python3"
  },
  "language_info": {
   "codemirror_mode": {
    "name": "ipython",
    "version": 3
   },
   "file_extension": ".py",
   "mimetype": "text/x-python",
   "name": "python",
   "nbconvert_exporter": "python",
   "pygments_lexer": "ipython3",
   "version": "3.12.6"
  }
 },
 "nbformat": 4,
 "nbformat_minor": 2
}
