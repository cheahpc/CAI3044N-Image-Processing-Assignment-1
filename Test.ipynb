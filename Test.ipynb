{
 "cells": [
  {
   "cell_type": "code",
   "execution_count": 27,
   "metadata": {},
   "outputs": [],
   "source": [
    "# Reading and resizing RAW images using rawpy and OpenCV\n",
    "import rawpy\n",
    "import cv2\n",
    "\n",
    "# Set Image path in array\n",
    "rawImg = [\"img/img1.NEF\", \"img/img2.NEF\", \"img/img3.NEF\", \"img/img4.NEF\"]\n",
    "\n",
    "# Set resize scale factor\n",
    "scaleFactor = 5\n",
    "\n",
    "\n",
    "def convertToBGR(img, cam_wb=True):\n",
    "    return cv2.cvtColor(\n",
    "        rawpy.imread(img).postprocess(use_camera_wb=cam_wb), cv2.COLOR_RGB2BGR\n",
    "    )\n",
    "\n",
    "def downsizeImage(img, factor):\n",
    "    return cv2.resize(img, (img.shape[1] // factor, img.shape[0] // factor))\n",
    "\n",
    "# Get converted image\n",
    "convertedImg = [convertToBGR(img) for img in rawImg]\n",
    "\n",
    "# Resize image\n",
    "scaledImg = [downsizeImage(img, scaleFactor) for img in convertedImg]\n",
    "\n",
    "# Show all images\n",
    "for img in scaledImg:\n",
    "    cv2.imshow(\"image\", img)\n",
    "    cv2.waitKey(0)\n",
    "\n",
    "cv2.destroyAllWindows()"
   ]
  }
 ],
 "metadata": {
  "kernelspec": {
   "display_name": "Python 3",
   "language": "python",
   "name": "python3"
  },
  "language_info": {
   "codemirror_mode": {
    "name": "ipython",
    "version": 3
   },
   "file_extension": ".py",
   "mimetype": "text/x-python",
   "name": "python",
   "nbconvert_exporter": "python",
   "pygments_lexer": "ipython3",
   "version": "3.12.6"
  }
 },
 "nbformat": 4,
 "nbformat_minor": 2
}
